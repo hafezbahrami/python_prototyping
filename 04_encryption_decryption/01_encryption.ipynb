{
 "cells": [
  {
   "cell_type": "markdown",
   "metadata": {},
   "source": [
    "## 1 Creating a key"
   ]
  },
  {
   "cell_type": "code",
   "execution_count": 2,
   "metadata": {},
   "outputs": [
    {
     "name": "stdout",
     "output_type": "stream",
     "text": [
      "Key: ry_VAB01kx00adj3X1P9bTGq1oMW2flyNnKT-JWRTzo=\n"
     ]
    }
   ],
   "source": [
    "from cryptography.fernet import Fernet\n",
    "\n",
    "# Generate a key\n",
    "key = Fernet.generate_key()\n",
    "print(f\"Key: {key.decode()}\")"
   ]
  },
  {
   "cell_type": "markdown",
   "metadata": {},
   "source": [
    "### 2 Encrypting Data using above key\n"
   ]
  },
  {
   "cell_type": "code",
   "execution_count": 3,
   "metadata": {},
   "outputs": [
    {
     "name": "stdout",
     "output_type": "stream",
     "text": [
      "Encrypted data: gAAAAABmj-LhmzIN6HTeYnlLcNwBs3ZEws3IzEN2-r5VKZafAWP-JXIb07D2dR8VEzO6kLXuYfBX5TwOuGr8vXZjKSRvxPSx5g==\n"
     ]
    }
   ],
   "source": [
    "from cryptography.fernet import Fernet\n",
    "\n",
    "# Example data to encrypt\n",
    "data = b\"Secret message!\"\n",
    "\n",
    "# Initialize Fernet with the key\n",
    "f = Fernet(key)\n",
    "\n",
    "# Encrypt the data\n",
    "encrypted_data = f.encrypt(data)\n",
    "print(f\"Encrypted data: {encrypted_data.decode()}\")\n"
   ]
  },
  {
   "cell_type": "markdown",
   "metadata": {},
   "source": [
    "### 3 Decrypt the data"
   ]
  },
  {
   "cell_type": "code",
   "execution_count": 4,
   "metadata": {},
   "outputs": [
    {
     "name": "stdout",
     "output_type": "stream",
     "text": [
      "Decrypted data: Secret message!\n"
     ]
    }
   ],
   "source": [
    "from cryptography.fernet import Fernet\n",
    "\n",
    "# Initialize Fernet with the key\n",
    "f = Fernet(key)\n",
    "\n",
    "# Decrypt the data\n",
    "decrypted_data = f.decrypt(encrypted_data)\n",
    "print(f\"Decrypted data: {decrypted_data.decode()}\")\n"
   ]
  },
  {
   "cell_type": "code",
   "execution_count": null,
   "metadata": {},
   "outputs": [],
   "source": []
  }
 ],
 "metadata": {
  "kernelspec": {
   "display_name": "python_prototyping-W2V9S_Po",
   "language": "python",
   "name": "python3"
  },
  "language_info": {
   "codemirror_mode": {
    "name": "ipython",
    "version": 3
   },
   "file_extension": ".py",
   "mimetype": "text/x-python",
   "name": "python",
   "nbconvert_exporter": "python",
   "pygments_lexer": "ipython3",
   "version": "3.10.14"
  }
 },
 "nbformat": 4,
 "nbformat_minor": 2
}
