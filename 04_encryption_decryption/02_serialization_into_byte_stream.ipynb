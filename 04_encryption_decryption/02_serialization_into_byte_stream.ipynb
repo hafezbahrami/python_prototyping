{
 "cells": [
  {
   "cell_type": "code",
   "execution_count": null,
   "metadata": {},
   "outputs": [],
   "source": []
  },
  {
   "cell_type": "markdown",
   "metadata": {},
   "source": [
    "#### 1 Serialization into byte stream\n",
    "- Let's assume we have a simple object, here just a dictionary\n",
    "    - Serialization is the process of converting an in-memory object (like a dictionary, list, or custom object) into a format that can be easily saved to a file, sent over a network, or stored in a database. The pickle module in Python provides a way to serialize and deserialize Python objects.\n",
    "    - When you use pickle.dumps(obj) in Python, the pickle module serializes the given object (obj) into a byte stream. This byte stream is a representation of the object in a format that can be stored or transmitted and later deserialized back into the original object.\n",
    "\n",
    "- Use Cases\n",
    "    - **Saving State**: Save the state of an object to a file or database.\n",
    "    - **Data Transmission**: Send an object over a network in a serialized form.\n",
    "    - **Caching**: Store a serialized object in a cache to improve performance."
   ]
  },
  {
   "cell_type": "code",
   "execution_count": 3,
   "metadata": {},
   "outputs": [
    {
     "name": "stdout",
     "output_type": "stream",
     "text": [
      "Serialized object: b'\\x80\\x04\\x950\\x00\\x00\\x00\\x00\\x00\\x00\\x00}\\x94(\\x8c\\x04name\\x94\\x8c\\x05Alice\\x94\\x8c\\x03age\\x94K\\x1e\\x8c\\x04city\\x94\\x8c\\nWonderland\\x94u.'\n"
     ]
    }
   ],
   "source": [
    "import pickle\n",
    "\n",
    "# Original object: a simple dictionary\n",
    "original_obj = {'name': 'Alice', 'age': 30, 'city': 'Wonderland'}\n",
    "\n",
    "# Serialize the dictionary to a byte stream\n",
    "serialized_obj = pickle.dumps(original_obj)\n",
    "\n",
    "print(\"Serialized object:\", serialized_obj)"
   ]
  },
  {
   "cell_type": "markdown",
   "metadata": {},
   "source": [
    "#### 2 Deserialization of above object"
   ]
  },
  {
   "cell_type": "code",
   "execution_count": 4,
   "metadata": {},
   "outputs": [
    {
     "name": "stdout",
     "output_type": "stream",
     "text": [
      "Deserialized object: {'name': 'Alice', 'age': 30, 'city': 'Wonderland'}\n"
     ]
    }
   ],
   "source": [
    "# Deserialize the byte stream back to the original object\n",
    "deserialized_obj = pickle.loads(serialized_obj)\n",
    "\n",
    "print(\"Deserialized object:\", deserialized_obj)"
   ]
  },
  {
   "cell_type": "markdown",
   "metadata": {},
   "source": []
  }
 ],
 "metadata": {
  "kernelspec": {
   "display_name": "python_prototyping-W2V9S_Po",
   "language": "python",
   "name": "python3"
  },
  "language_info": {
   "codemirror_mode": {
    "name": "ipython",
    "version": 3
   },
   "file_extension": ".py",
   "mimetype": "text/x-python",
   "name": "python",
   "nbconvert_exporter": "python",
   "pygments_lexer": "ipython3",
   "version": "3.10.14"
  }
 },
 "nbformat": 4,
 "nbformat_minor": 2
}
