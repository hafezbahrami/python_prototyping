{
 "cells": [
  {
   "cell_type": "markdown",
   "metadata": {},
   "source": []
  },
  {
   "cell_type": "code",
   "execution_count": 1,
   "metadata": {},
   "outputs": [],
   "source": [
    "import threading                # To use multi-threading in Python \n",
    "from threading import Thread    \n",
    "\n",
    "import time"
   ]
  },
  {
   "cell_type": "markdown",
   "metadata": {},
   "source": [
    "# 1: fundamentals:\n",
    "\n",
    "How to create the entry-point function to a thread, getting the total active thread for python, how to create a new thread, ..."
   ]
  },
  {
   "cell_type": "markdown",
   "metadata": {},
   "source": [
    "Each Thread starts its execution with afunction. So, we must create a function. basically, an entry-point for our thread"
   ]
  },
  {
   "cell_type": "code",
   "execution_count": 2,
   "metadata": {},
   "outputs": [],
   "source": [
    "def thrdFunc():\n",
    "    \"\"\"Just an entry point for our thread\"\"\"\n",
    "    print(\"Starting of a Tread Function:\")\n",
    "    time.sleep(5) # Sleeping for 5 sec\n",
    "    print(\"Thread Function Completed!\")"
   ]
  },
  {
   "cell_type": "markdown",
   "metadata": {},
   "source": [
    "How many thread is currently being used with this particular process of running our current Jupyter notebook:\n",
    "\n",
    "1) Running in CMD:\n",
    "Also, in command line, run the \"ps -eaf\" to get the information about the processes are running, then grep those related to Jupyter:\n",
    "\n",
    "$$ps -eaf | grep jupyter$$\n",
    "\n",
    "The, to get the top processe (Read the \"process_ID\" for ipython-kernel process from the cmd running the above command):\n",
    "\n",
    "$$top -p  process_ID$$\n",
    "\n",
    "Shift + H it to see \n",
    "\n",
    "2) Running simple call in notebook: \n",
    "This one gives us those thread # that are directly involved in python notebook"
   ]
  },
  {
   "cell_type": "code",
   "execution_count": 9,
   "metadata": {},
   "outputs": [
    {
     "data": {
      "text/plain": [
       "7"
      ]
     },
     "execution_count": 9,
     "metadata": {},
     "output_type": "execute_result"
    }
   ],
   "source": [
    "threading.active_count()"
   ]
  },
  {
   "cell_type": "markdown",
   "metadata": {},
   "source": [
    "Create our Thread (by helping the OS to our Cython):\n",
    "\n",
    "We need to pass the function we defined above as constructive parameter. Then we start the thread, and then check the active thread now.\n",
    "\n",
    "After the thread is done with the function task, if we see the active threrad one more time, we see that thread is dead and gone, now. This newly created thread is there till I click some-where else."
   ]
  },
  {
   "cell_type": "code",
   "execution_count": 10,
   "metadata": {},
   "outputs": [
    {
     "name": "stdout",
     "output_type": "stream",
     "text": [
      "Starting of a Tread Function:\n"
     ]
    },
    {
     "data": {
      "text/plain": [
       "8"
      ]
     },
     "execution_count": 10,
     "metadata": {},
     "output_type": "execute_result"
    },
    {
     "name": "stdout",
     "output_type": "stream",
     "text": [
      "Thread Function Completed!\n"
     ]
    }
   ],
   "source": [
    "thrd = Thread(target=thrdFunc)\n",
    "thrd.start()\n",
    "threading.active_count()"
   ]
  },
  {
   "cell_type": "markdown",
   "metadata": {},
   "source": [
    "#2: Logistics\n",
    "\n",
    "1) Similar to threads in other languages, we can join a thread, or wait to complete a thread"
   ]
  },
  {
   "cell_type": "code",
   "execution_count": 11,
   "metadata": {},
   "outputs": [
    {
     "name": "stdout",
     "output_type": "stream",
     "text": [
      "Starting of a Tread Function:\n",
      "Thread Function Completed!\n"
     ]
    }
   ],
   "source": [
    "thrd = Thread(target=thrdFunc)\n",
    "thrd.start()\n",
    "thrd.join()"
   ]
  },
  {
   "cell_type": "code",
   "execution_count": null,
   "metadata": {},
   "outputs": [],
   "source": []
  },
  {
   "cell_type": "code",
   "execution_count": null,
   "metadata": {},
   "outputs": [],
   "source": []
  },
  {
   "cell_type": "code",
   "execution_count": null,
   "metadata": {},
   "outputs": [],
   "source": []
  },
  {
   "cell_type": "code",
   "execution_count": null,
   "metadata": {},
   "outputs": [],
   "source": []
  },
  {
   "cell_type": "code",
   "execution_count": null,
   "metadata": {},
   "outputs": [],
   "source": []
  },
  {
   "cell_type": "code",
   "execution_count": null,
   "metadata": {},
   "outputs": [],
   "source": []
  },
  {
   "cell_type": "code",
   "execution_count": null,
   "metadata": {},
   "outputs": [],
   "source": []
  },
  {
   "cell_type": "code",
   "execution_count": null,
   "metadata": {},
   "outputs": [],
   "source": []
  },
  {
   "cell_type": "code",
   "execution_count": null,
   "metadata": {},
   "outputs": [],
   "source": []
  },
  {
   "cell_type": "code",
   "execution_count": null,
   "metadata": {},
   "outputs": [],
   "source": []
  }
 ],
 "metadata": {
  "kernelspec": {
   "display_name": "python_prototyping-W2V9S_Po",
   "language": "python",
   "name": "python3"
  },
  "language_info": {
   "codemirror_mode": {
    "name": "ipython",
    "version": 3
   },
   "file_extension": ".py",
   "mimetype": "text/x-python",
   "name": "python",
   "nbconvert_exporter": "python",
   "pygments_lexer": "ipython3",
   "version": "3.10.12"
  }
 },
 "nbformat": 4,
 "nbformat_minor": 2
}
