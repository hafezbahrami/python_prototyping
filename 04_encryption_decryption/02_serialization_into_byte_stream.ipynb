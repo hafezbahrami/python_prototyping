{
 "cells": [
  {
   "cell_type": "markdown",
   "metadata": {},
   "source": [
    "### 0 Serialization\n",
    "We can serialize in various method:\n",
    "- Serialize into JSON string: One way is to use Pydantic library, to create Pydantic objectsm and then simply use ```.json()``` method\n",
    "- Serialize into bit-string: We can use Pickle library, and then ```pickle.dump()``` method."
   ]
  },
  {
   "cell_type": "markdown",
   "metadata": {},
   "source": [
    "#### 1 Serialization into byte stream: Nativ Python data structure\n",
    "- Serialization in Python refers to the process of converting an object into a byte stream, which can then be stored in a file or transmitted over a network. This can be done using the pickle module in Python, which provides a way to serialize and deserialize Python objects.\n",
    "\n",
    "- Here we consider the data in Dictionary as the Python native data structure\n",
    "    - This is the most straight forward data- structure that can be serialized\n",
    "\n",
    "- Let's assume we have a simple object, here just a dictionary\n",
    "    - Serialization is the process of converting an in-memory object (like a dictionary, list, or custom object) into a format that can be easily saved to a file, sent over a network, or stored in a database. The pickle module in Python provides a way to serialize and deserialize Python objects.\n",
    "    - When you use pickle.dumps(obj) in Python, the pickle module serializes the given object (obj) into a byte stream. This byte stream is a representation of the object in a format that can be stored or transmitted and later deserialized back into the original object.\n",
    "\n"
   ]
  },
  {
   "cell_type": "markdown",
   "metadata": {},
   "source": [
    "##### 1-0 What is Byte-Serialization?\n",
    "- Converting an object into a byte stream, in layman terms, means transforming the object's data into a sequence of bytes that can be stored in a file, sent over a network, or saved in a database. \n",
    "    - Think of it like taking a snapshot of an object's information and saving that snapshot in a form that can be easily transmitted or stored. When you need the object again, you can use this snapshot to recreate it exactly as it was.\n",
    "- Imagine you have a detailed Lego structure. Converting the object to a byte stream is like taking a step-by-step manual of how the Lego pieces are put together and saving that manual. The manual itself isn't the Lego structure but contains all the information needed to recreate it.\n",
    "    - When you want the structure back, you follow the manual to put the Lego pieces together in the exact same way. Similarly, deserializing the byte stream reconstructs the original object from the saved sequence of bytes.\n",
    "\n",
    "\n",
    "- Use Cases\n",
    "    - Saving State: Save the state of an object to a file or database.\n",
    "    - Data Transmission: Send an object over a network in a serialized form.\n",
    "    - Caching: Store a serialized object in a cache to improve performance."
   ]
  },
  {
   "cell_type": "markdown",
   "metadata": {},
   "source": [
    "##### 1-1 serialize "
   ]
  },
  {
   "cell_type": "code",
   "execution_count": 22,
   "metadata": {},
   "outputs": [
    {
     "name": "stdout",
     "output_type": "stream",
     "text": [
      "Serialized object: b'\\x80\\x04\\x950\\x00\\x00\\x00\\x00\\x00\\x00\\x00}\\x94(\\x8c\\x04name\\x94\\x8c\\x05Alice\\x94\\x8c\\x03age\\x94K\\x1e\\x8c\\x04city\\x94\\x8c\\nWonderland\\x94u.'\n"
     ]
    }
   ],
   "source": [
    "import pickle\n",
    "\n",
    "# Original object in Python-native-data-structure: a simple dictionary\n",
    "original_obj = {'name': 'Alice', 'age': 30, 'city': 'Wonderland'}\n",
    "\n",
    "# Serialize the dictionary to a byte stream\n",
    "serialized_obj = pickle.dumps(original_obj)\n",
    "\n",
    "print(\"Serialized object:\", serialized_obj)"
   ]
  },
  {
   "cell_type": "markdown",
   "metadata": {},
   "source": [
    "##### 1-2 Deserialization"
   ]
  },
  {
   "cell_type": "code",
   "execution_count": 23,
   "metadata": {},
   "outputs": [
    {
     "name": "stdout",
     "output_type": "stream",
     "text": [
      "Deserialized object: {'name': 'Alice', 'age': 30, 'city': 'Wonderland'}\n"
     ]
    }
   ],
   "source": [
    "# Deserialize the byte stream back to the original object\n",
    "deserialized_obj = pickle.loads(serialized_obj)\n",
    "\n",
    "print(\"Deserialized object:\", deserialized_obj)"
   ]
  },
  {
   "cell_type": "markdown",
   "metadata": {},
   "source": [
    "#### 2 More complicated Object: Non-Python-native-data-structure"
   ]
  },
  {
   "cell_type": "markdown",
   "metadata": {},
   "source": [
    "##### 2-1 Object with attributes still in Oython-native-data-structure\n",
    "\n",
    "- This is relatively simple, and pickle can bit-serialize it\n",
    "- Look at the \"complex_operation()\" method that will not be part of the **state** of the object to be bit-serialize"
   ]
  },
  {
   "cell_type": "code",
   "execution_count": 24,
   "metadata": {},
   "outputs": [
    {
     "name": "stdout",
     "output_type": "stream",
     "text": [
      "Original object: SimpleCalculator(data=[1, 4, 9, 16])\n",
      "Result of complex_operation: 10.0\n",
      "\n",
      " The Python native state of created object: {'data': [1, 4, 9, 16]}\n",
      "\n",
      " Serialized byte stream: b'\\x80\\x04\\x95;\\x00\\x00\\x00\\x00\\x00\\x00\\x00\\x8c\\x08__main__\\x94\\x8c\\x10SimpleCalculator\\x94\\x93\\x94)\\x81\\x94}\\x94\\x8c\\x04data\\x94]\\x94(K\\x01K\\x04K\\tK\\x10esb.'\n",
      "\n",
      " Deserialized object: SimpleCalculator(data=[1, 4, 9, 16])\n",
      " Result of complex_operation: 10.0\n"
     ]
    }
   ],
   "source": [
    "import pickle\n",
    "import math\n",
    "\n",
    "# Define a class with a method that performs complicated operations\n",
    "class SimpleCalculator:\n",
    "    def __init__(self, data):\n",
    "        self.data = data\n",
    "\n",
    "    def complex_operation(self):\n",
    "        # Example of a complicated operation\n",
    "        return sum(math.sqrt(x) for x in self.data)\n",
    "\n",
    "    def __repr__(self):\n",
    "        return f\"SimpleCalculator(data={self.data})\"\n",
    "\n",
    "    def __getstate__(self):\n",
    "        # customize what should be pickled in python-native-data-structure\n",
    "        state = self.__dict__.copy()  # The object state only will be  {'data': [1, 4, 9, 16]}, a python-native-data-structure\n",
    "        return state\n",
    "\n",
    "    def __setstate__(self, state):\n",
    "        # Restore the state (the state that being sent previously to be serialize (here i.e.       state= {'data': [1, 4, 9, 16]}       ))\n",
    "        self.__dict__.update(state)\n",
    "\n",
    "# Create an instance of the class\n",
    "calculator = SimpleCalculator([1, 4, 9, 16])\n",
    "print(f\"Original object: {calculator}\")\n",
    "print(f\"Result of complex_operation: {calculator.complex_operation()}\")\n",
    "\n",
    "# explore the \n",
    "python_native_state = calculator.__getstate__()  # is we explore the self.data, inside the __getstate__ method:   ====>   {'data': [1, 4, 9, 16]}\n",
    "print(f\"\\n The Python native state of created object: {python_native_state}\")\n",
    "\n",
    "# Serialize the instance to a byte stream\n",
    "byte_stream = pickle.dumps(calculator)\n",
    "print(f\"\\n Serialized byte stream: {byte_stream}\")\n",
    "\n",
    "# Deserialize the byte stream back to an object\n",
    "deserialized_calculator = pickle.loads(byte_stream)\n",
    "print(f\"\\n Deserialized object: {deserialized_calculator}\")\n",
    "print(f\" Result of complex_operation: {deserialized_calculator.complex_operation()}\")\n"
   ]
  },
  {
   "cell_type": "markdown",
   "metadata": {},
   "source": [
    "##### 2-2 Class with non-native operations/methods into the state of an object\n",
    "- Let's assume we have Image method from Pillow library\n",
    "- We define a method to do some operations, based on this non-pyhon-native library\n",
    "- We also define an attribute from above SimpleCalculator class\n",
    "- **More importantly, all above are part of state of an object of this class**\n",
    "\n",
    "How a native-python-bject, such as dictionary, is being created in pickling process:\n",
    "- Customize what to serialize:\n",
    "    - In Python's pickle module, the __getstate__ method is called automatically when an object is being serialized ```pickle.dumps(obj)```.\n",
    "    - The self.__dict__ in this method originall includes all 3 attributes defined in __init__ method.\n",
    "    - This ( __getstate__ ) method allows to define what attributes of the object should be included in the serialized state, and what to be excluded. \n",
    "    - If __getstate__ is not defined, pickle will by default serialize the object's __dict__.\n",
    "- What to restore in deeserialization:\n",
    "    - using __setstate__ method, when the ```pickle.loads()``` is called."
   ]
  },
  {
   "cell_type": "code",
   "execution_count": 25,
   "metadata": {},
   "outputs": [
    {
     "name": "stdout",
     "output_type": "stream",
     "text": [
      "Original object: ImageProcessor(image_path=example.jpg)\n",
      "Processing image: <PIL.Image.Image image mode=RGB size=591x500 at 0x7FD440208100>\n",
      "\n",
      " Serialized byte stream: b'\\x80\\x04\\x95\\x80\\x00\\x00\\x00\\x00\\x00\\x00\\x00\\x8c\\x08__main__\\x94\\x8c\\x0eImageProcessor\\x94\\x93\\x94)\\x81\\x94}\\x94(\\x8c\\nimage_path\\x94\\x8c\\x0bexample.jpg\\x94\\x8c\\ncalculator\\x94h\\x00\\x8c\\x10SimpleCalculator\\x94\\x93\\x94)\\x81\\x94}\\x94\\x8c\\x04data\\x94]\\x94(K\\x01K\\x04K\\tK\\x10esbub.'\n",
      "\n",
      " Deserialized object: ImageProcessor(image_path=example.jpg)\n",
      " Processing image: <PIL.Image.Image image mode=RGB size=591x500 at 0x7FD4402606D0>\n"
     ]
    }
   ],
   "source": [
    "import pickle\n",
    "from PIL import Image\n",
    "\n",
    "# Define a class with non-Python-native operations\n",
    "class ImageProcessor:\n",
    "    def __init__(self, image_path):\n",
    "        self.image_path = image_path\n",
    "        self.image = Image.open(image_path)\n",
    "        self.calculator = SimpleCalculator([1, 4, 9, 16])\n",
    "\n",
    "    def process_image(self):\n",
    "        # Example of a non-Python-native operation (image processing)\n",
    "        return self.image.rotate(90)\n",
    "\n",
    "    def __repr__(self):\n",
    "        return f\"ImageProcessor(image_path={self.image_path})\"\n",
    "\n",
    "    def __getstate__(self):\n",
    "        # customize what should be pickled in python-native-data-structure\n",
    "        state = self.__dict__.copy()\n",
    "        # Remove the image from the state\n",
    "        state.pop('image', None)\n",
    "        return state\n",
    "\n",
    "    def __setstate__(self, state):\n",
    "        # Restore the state\n",
    "        self.__dict__.update(state)\n",
    "        # Reinitialize the image\n",
    "        self.image = Image.open(self.image_path)\n",
    "\n",
    "# Create an instance of the class\n",
    "processor = ImageProcessor('example.jpg')\n",
    "print(f\"Original object: {processor}\")\n",
    "print(f\"Processing image: {processor.process_image()}\")\n",
    "\n",
    "# Serialize the instance to a byte stream\n",
    "byte_stream = pickle.dumps(processor)\n",
    "print(f\"\\n Serialized byte stream: {byte_stream}\")\n",
    "\n",
    "# Deserialize the byte stream back to an object\n",
    "deserialized_processor = pickle.loads(byte_stream)\n",
    "print(f\"\\n Deserialized object: {deserialized_processor}\")\n",
    "print(f\" Processing image: {deserialized_processor.process_image()}\")\n"
   ]
  },
  {
   "cell_type": "markdown",
   "metadata": {},
   "source": [
    "### 3 Serialization into JSON-string, then into bit-string\n",
    "- Here, we first create the JSON string of a Pydantic object\n",
    "- then, we convert this to bit-string using ```.encode(\"utf-8)``` method. Above we used ```pickle.dumps``` to do the same\n"
   ]
  },
  {
   "cell_type": "code",
   "execution_count": 26,
   "metadata": {},
   "outputs": [],
   "source": [
    "from pydantic import BaseModel, Field\n",
    "from typing import Dict, Any\n",
    "\n",
    "# Define your custom class\n",
    "class Address(BaseModel):\n",
    "    street: str\n",
    "    city:str\n",
    "    zip_code:str\n",
    "    def __init__(self, **data):\n",
    "        # Initialize the BaseModel attributes using the parent __init__\n",
    "        super().__init__(**data)\n",
    "\n",
    "    def __repr__(self):\n",
    "        return f\"Address(street={self.street}, city={self.city}, zip_code={self.zip_code})\"\n",
    "\n",
    "# Define a Pydantic model that includes the custom class\n",
    "class UserProfile(BaseModel):\n",
    "    name: str\n",
    "    age: int = Field(..., ge=0, le=120)\n",
    "    email: str\n",
    "    address: Address  # This is a custom class field\n",
    "\n",
    "    def __init__(self, **data):\n",
    "        super().__init__(**data)\n",
    "        # You can add custom initialization logic if needed\n",
    "\n",
    "    def __repr__(self):\n",
    "        return f\"UserProfile(name={self.name}, age={self.age}, email={self.email}, address={self.address})\"\n"
   ]
  },
  {
   "cell_type": "code",
   "execution_count": 33,
   "metadata": {},
   "outputs": [
    {
     "name": "stdout",
     "output_type": "stream",
     "text": [
      "User profile created successfully:\n",
      "name='Alice' age=30 email='alice@example.com' address=Address(street=123 Main St, city=Wonderland, zip_code=12345)\n",
      "\n",
      "Serialized JSON string:\n",
      "{\"name\":\"Alice\",\"age\":30,\"email\":\"alice@example.com\",\"address\":{\"street\":\"123 Main St\",\"city\":\"Wonderland\",\"zip_code\":\"12345\"}}\n",
      "\n",
      "byte-string of above JSON-string serialization:\n",
      "b'\\x80\\x04\\x95\\x83\\x00\\x00\\x00\\x00\\x00\\x00\\x00\\x8c\\x7f{\"name\":\"Alice\",\"age\":30,\"email\":\"alice@example.com\",\"address\":{\"street\":\"123 Main St\",\"city\":\"Wonderland\",\"zip_code\":\"12345\"}}\\x94.'\n",
      "\n",
      "Deserialized Pydantic model:\n",
      "name='Alice' age=30 email='alice@example.com' address=Address(street=123 Main St, city=Wonderland, zip_code=12345)\n"
     ]
    }
   ],
   "source": [
    "# Custom function to parse the Address data\n",
    "def parse_address(address_data: Dict[str, Any]) -> Address:\n",
    "    address = Address(**address_data)\n",
    "    return address\n",
    "\n",
    "# Sample data\n",
    "address_data = {\n",
    "    \"street\": \"123 Main St\",\n",
    "    \"city\": \"Wonderland\",\n",
    "    \"zip_code\": \"12345\"\n",
    "}\n",
    "\n",
    "user_data = {\n",
    "    \"name\": \"Alice\",\n",
    "    \"age\": 30,\n",
    "    \"email\": \"alice@example.com\",\n",
    "    \"address\": parse_address(address_data)  # Convert custom address data\n",
    "}\n",
    "\n",
    "# Create an instance of the Pydantic model\n",
    "user = UserProfile(**user_data)\n",
    "print(\"User profile created successfully:\")\n",
    "print(user)\n",
    "\n",
    "# Serialize the Pydantic model to a JSON string\n",
    "user_json = user.model_dump_json()\n",
    "print(\"\\nSerialized JSON string:\")\n",
    "print(user_json)\n",
    "\n",
    "# Serialize the instance to a byte stream\n",
    "byte_stream = pickle.dumps(user_json)\n",
    "print(f\"\\nbyte-string of above JSON-string serialization:\")\n",
    "print(byte_stream)\n",
    "\n",
    "# Deserialize the JSON string back to a Pydantic model\n",
    "user_from_json = UserProfile.model_validate_json(user_json)\n",
    "print(\"\\nDeserialized Pydantic model:\")\n",
    "print(user_from_json)"
   ]
  },
  {
   "cell_type": "code",
   "execution_count": 32,
   "metadata": {},
   "outputs": [
    {
     "data": {
      "text/plain": [
       "'\"{\\\\\"name\\\\\":\\\\\"Alice\\\\\",\\\\\"age\\\\\":30,\\\\\"email\\\\\":\\\\\"alice@example.com\\\\\",\\\\\"address\\\\\":{\\\\\"street\\\\\":\\\\\"123 Main St\\\\\",\\\\\"city\\\\\":\\\\\"Wonderland\\\\\",\\\\\"zip_code\\\\\":\\\\\"12345\\\\\"}}\"'"
      ]
     },
     "execution_count": 32,
     "metadata": {},
     "output_type": "execute_result"
    }
   ],
   "source": [
    "import json\n",
    "json.dumps(user_json)"
   ]
  },
  {
   "cell_type": "code",
   "execution_count": 34,
   "metadata": {},
   "outputs": [
    {
     "data": {
      "text/plain": [
       "b'\"{\\\\\"name\\\\\":\\\\\"Alice\\\\\",\\\\\"age\\\\\":30,\\\\\"email\\\\\":\\\\\"alice@example.com\\\\\",\\\\\"address\\\\\":{\\\\\"street\\\\\":\\\\\"123 Main St\\\\\",\\\\\"city\\\\\":\\\\\"Wonderland\\\\\",\\\\\"zip_code\\\\\":\\\\\"12345\\\\\"}}\"'"
      ]
     },
     "execution_count": 34,
     "metadata": {},
     "output_type": "execute_result"
    }
   ],
   "source": [
    "json.dumps(user_json).encode(\"utf-8\")"
   ]
  },
  {
   "cell_type": "code",
   "execution_count": null,
   "metadata": {},
   "outputs": [],
   "source": [
    "# just out curosity that \"UTF-8\" does not always print out the usual-text-like sentences, when the original text in not from ASCII\n",
    "\n",
    "text = \"Hello, 世界!\"                   # This is a text string with non-ASCII characters\n",
    "encoded_text = text.encode(\"utf-8\")     # Encoding the string into bytes\n",
    "print(encoded_text)                     # Output: b'Hello, \\xe4\\xb8\\x96\\xe7\\x95\\x8c!'"
   ]
  }
 ],
 "metadata": {
  "kernelspec": {
   "display_name": "python_prototyping-W2V9S_Po",
   "language": "python",
   "name": "python3"
  },
  "language_info": {
   "codemirror_mode": {
    "name": "ipython",
    "version": 3
   },
   "file_extension": ".py",
   "mimetype": "text/x-python",
   "name": "python",
   "nbconvert_exporter": "python",
   "pygments_lexer": "ipython3",
   "version": "3.10.14"
  }
 },
 "nbformat": 4,
 "nbformat_minor": 2
}
